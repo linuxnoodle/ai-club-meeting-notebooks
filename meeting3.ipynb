{
 "cells": [
  {
   "cell_type": "code",
   "execution_count": 10,
   "metadata": {},
   "outputs": [],
   "source": [
    "import torch\n",
    "import torch.nn as nn\n",
    "import torch.optim as optim\n",
    "from torch.utils.data import DataLoader\n",
    "from torchvision import datasets, transforms\n",
    "import torch.nn.functional as F\n",
    "import tkinter as tk\n",
    "from tkinter import messagebox\n",
    "from PIL import Image, ImageDraw\n",
    "import numpy as np\n",
    "import matplotlib.pyplot as plt"
   ]
  },
  {
   "cell_type": "code",
   "execution_count": 5,
   "metadata": {},
   "outputs": [],
   "source": [
    "class DigitANN(nn.Module):\n",
    "    def __init__(self):\n",
    "        super(DigitANN, self).__init__()\n",
    "        # A simple feedforward network\n",
    "        self.fc1 = nn.Linear(28 * 28, 128)  # Input layer: 28x28 pixels flattened to 784\n",
    "        self.fc2 = nn.Linear(128, 64)       # Hidden layer\n",
    "        self.fc3 = nn.Linear(64, 10)        # Output layer: 10 classes (digits 0-9)\n",
    "    \n",
    "    def forward(self, x):\n",
    "        # Flatten the input image\n",
    "        x = x.view(-1, 28 * 28)\n",
    "        # Feed forward through the network with ReLU activations\n",
    "        x = F.relu(self.fc1(x))\n",
    "        x = F.relu(self.fc2(x))\n",
    "        x = self.fc3(x)\n",
    "        return x"
   ]
  },
  {
   "cell_type": "code",
   "execution_count": 6,
   "metadata": {},
   "outputs": [],
   "source": [
    "# Hyperparameters\n",
    "batch_size = 64\n",
    "epochs = 5\n",
    "learning_rate = 0.001"
   ]
  },
  {
   "cell_type": "code",
   "execution_count": 7,
   "metadata": {},
   "outputs": [
    {
     "name": "stdout",
     "output_type": "stream",
     "text": [
      "Downloading http://yann.lecun.com/exdb/mnist/train-images-idx3-ubyte.gz\n",
      "Failed to download (trying next):\n",
      "<urlopen error [SSL: CERTIFICATE_VERIFY_FAILED] certificate verify failed: certificate has expired (_ssl.c:1000)>\n",
      "\n",
      "Downloading https://ossci-datasets.s3.amazonaws.com/mnist/train-images-idx3-ubyte.gz\n",
      "Downloading https://ossci-datasets.s3.amazonaws.com/mnist/train-images-idx3-ubyte.gz to ./MNIST/raw/train-images-idx3-ubyte.gz\n"
     ]
    },
    {
     "name": "stderr",
     "output_type": "stream",
     "text": [
      "100%|██████████| 9912422/9912422 [00:02<00:00, 4682205.72it/s]\n"
     ]
    },
    {
     "name": "stdout",
     "output_type": "stream",
     "text": [
      "Extracting ./MNIST/raw/train-images-idx3-ubyte.gz to ./MNIST/raw\n",
      "\n",
      "Downloading http://yann.lecun.com/exdb/mnist/train-labels-idx1-ubyte.gz\n",
      "Failed to download (trying next):\n",
      "<urlopen error [SSL: CERTIFICATE_VERIFY_FAILED] certificate verify failed: certificate has expired (_ssl.c:1000)>\n",
      "\n",
      "Downloading https://ossci-datasets.s3.amazonaws.com/mnist/train-labels-idx1-ubyte.gz\n",
      "Downloading https://ossci-datasets.s3.amazonaws.com/mnist/train-labels-idx1-ubyte.gz to ./MNIST/raw/train-labels-idx1-ubyte.gz\n"
     ]
    },
    {
     "name": "stderr",
     "output_type": "stream",
     "text": [
      "100%|██████████| 28881/28881 [00:00<00:00, 769926.99it/s]\n"
     ]
    },
    {
     "name": "stdout",
     "output_type": "stream",
     "text": [
      "Extracting ./MNIST/raw/train-labels-idx1-ubyte.gz to ./MNIST/raw\n",
      "\n",
      "Downloading http://yann.lecun.com/exdb/mnist/t10k-images-idx3-ubyte.gz\n",
      "Failed to download (trying next):\n",
      "<urlopen error [SSL: CERTIFICATE_VERIFY_FAILED] certificate verify failed: certificate has expired (_ssl.c:1000)>\n",
      "\n",
      "Downloading https://ossci-datasets.s3.amazonaws.com/mnist/t10k-images-idx3-ubyte.gz\n",
      "Downloading https://ossci-datasets.s3.amazonaws.com/mnist/t10k-images-idx3-ubyte.gz to ./MNIST/raw/t10k-images-idx3-ubyte.gz\n"
     ]
    },
    {
     "name": "stderr",
     "output_type": "stream",
     "text": [
      "100%|██████████| 1648877/1648877 [00:00<00:00, 6687997.87it/s]\n"
     ]
    },
    {
     "name": "stdout",
     "output_type": "stream",
     "text": [
      "Extracting ./MNIST/raw/t10k-images-idx3-ubyte.gz to ./MNIST/raw\n",
      "\n",
      "Downloading http://yann.lecun.com/exdb/mnist/t10k-labels-idx1-ubyte.gz\n",
      "Failed to download (trying next):\n",
      "<urlopen error [SSL: CERTIFICATE_VERIFY_FAILED] certificate verify failed: certificate has expired (_ssl.c:1000)>\n",
      "\n",
      "Downloading https://ossci-datasets.s3.amazonaws.com/mnist/t10k-labels-idx1-ubyte.gz\n",
      "Downloading https://ossci-datasets.s3.amazonaws.com/mnist/t10k-labels-idx1-ubyte.gz to ./MNIST/raw/t10k-labels-idx1-ubyte.gz\n"
     ]
    },
    {
     "name": "stderr",
     "output_type": "stream",
     "text": [
      "100%|██████████| 4542/4542 [00:00<00:00, 4679569.83it/s]"
     ]
    },
    {
     "name": "stdout",
     "output_type": "stream",
     "text": [
      "Extracting ./MNIST/raw/t10k-labels-idx1-ubyte.gz to ./MNIST/raw\n",
      "\n"
     ]
    },
    {
     "name": "stderr",
     "output_type": "stream",
     "text": [
      "\n"
     ]
    }
   ],
   "source": [
    "# Define data transforms and load MNIST dataset\n",
    "transform = transforms.Compose([\n",
    "    transforms.ToTensor(),\n",
    "    transforms.Normalize((0.5,), (0.5,))  # Normalize images to [-1, 1]\n",
    "])\n",
    "\n",
    "train_dataset = datasets.MNIST('.', train=True, download=True, transform=transform)\n",
    "test_dataset = datasets.MNIST('.', train=False, download=True, transform=transform)\n",
    "\n",
    "train_loader = DataLoader(train_dataset, batch_size=batch_size, shuffle=True)\n",
    "test_loader = DataLoader(test_dataset, batch_size=batch_size, shuffle=False)\n",
    "\n",
    "# Initialize the model, loss function, and optimizer\n",
    "model = DigitANN()\n",
    "criterion = nn.CrossEntropyLoss()  # Cross entropy for classification tasks\n",
    "optimizer = optim.Adam(model.parameters(), lr=learning_rate)"
   ]
  },
  {
   "cell_type": "code",
   "execution_count": 8,
   "metadata": {},
   "outputs": [
    {
     "name": "stdout",
     "output_type": "stream",
     "text": [
      "Epoch [1/5], Step [1/938], Loss: 0.0230\n",
      "Epoch [1/5], Step [101/938], Loss: 1.0029\n",
      "Epoch [1/5], Step [201/938], Loss: 0.4259\n",
      "Epoch [1/5], Step [301/938], Loss: 0.3801\n",
      "Epoch [1/5], Step [401/938], Loss: 0.3457\n",
      "Epoch [1/5], Step [501/938], Loss: 0.3130\n",
      "Epoch [1/5], Step [601/938], Loss: 0.2773\n",
      "Epoch [1/5], Step [701/938], Loss: 0.2900\n",
      "Epoch [1/5], Step [801/938], Loss: 0.2506\n",
      "Epoch [1/5], Step [901/938], Loss: 0.2439\n",
      "Epoch [2/5], Step [1/938], Loss: 0.0040\n",
      "Epoch [2/5], Step [101/938], Loss: 0.2116\n",
      "Epoch [2/5], Step [201/938], Loss: 0.2020\n",
      "Epoch [2/5], Step [301/938], Loss: 0.2016\n",
      "Epoch [2/5], Step [401/938], Loss: 0.2003\n",
      "Epoch [2/5], Step [501/938], Loss: 0.1724\n",
      "Epoch [2/5], Step [601/938], Loss: 0.1890\n",
      "Epoch [2/5], Step [701/938], Loss: 0.1655\n",
      "Epoch [2/5], Step [801/938], Loss: 0.1682\n",
      "Epoch [2/5], Step [901/938], Loss: 0.1644\n",
      "Epoch [3/5], Step [1/938], Loss: 0.0010\n",
      "Epoch [3/5], Step [101/938], Loss: 0.1394\n",
      "Epoch [3/5], Step [201/938], Loss: 0.1437\n",
      "Epoch [3/5], Step [301/938], Loss: 0.1388\n",
      "Epoch [3/5], Step [401/938], Loss: 0.1488\n",
      "Epoch [3/5], Step [501/938], Loss: 0.1399\n",
      "Epoch [3/5], Step [601/938], Loss: 0.1316\n",
      "Epoch [3/5], Step [701/938], Loss: 0.1446\n",
      "Epoch [3/5], Step [801/938], Loss: 0.1275\n",
      "Epoch [3/5], Step [901/938], Loss: 0.1221\n",
      "Epoch [4/5], Step [1/938], Loss: 0.0009\n",
      "Epoch [4/5], Step [101/938], Loss: 0.1123\n",
      "Epoch [4/5], Step [201/938], Loss: 0.1041\n",
      "Epoch [4/5], Step [301/938], Loss: 0.1074\n",
      "Epoch [4/5], Step [401/938], Loss: 0.1192\n",
      "Epoch [4/5], Step [501/938], Loss: 0.1058\n",
      "Epoch [4/5], Step [601/938], Loss: 0.1080\n",
      "Epoch [4/5], Step [701/938], Loss: 0.1256\n",
      "Epoch [4/5], Step [801/938], Loss: 0.1031\n",
      "Epoch [4/5], Step [901/938], Loss: 0.1143\n",
      "Epoch [5/5], Step [1/938], Loss: 0.0006\n",
      "Epoch [5/5], Step [101/938], Loss: 0.0892\n",
      "Epoch [5/5], Step [201/938], Loss: 0.1045\n",
      "Epoch [5/5], Step [301/938], Loss: 0.0915\n",
      "Epoch [5/5], Step [401/938], Loss: 0.0940\n",
      "Epoch [5/5], Step [501/938], Loss: 0.1041\n",
      "Epoch [5/5], Step [601/938], Loss: 0.0910\n",
      "Epoch [5/5], Step [701/938], Loss: 0.0861\n",
      "Epoch [5/5], Step [801/938], Loss: 0.0991\n",
      "Epoch [5/5], Step [901/938], Loss: 0.0996\n",
      "Model trained and saved as \"mnist_ann_model.pth\"\n"
     ]
    }
   ],
   "source": [
    "# Training loop\n",
    "for epoch in range(epochs):\n",
    "    model.train()\n",
    "    running_loss = 0.0\n",
    "    for batch_idx, (data, target) in enumerate(train_loader):\n",
    "        optimizer.zero_grad()\n",
    "        output = model(data)\n",
    "        loss = criterion(output, target)\n",
    "        loss.backward()\n",
    "        optimizer.step()\n",
    "\n",
    "        running_loss += loss.item()\n",
    "        if batch_idx % 100 == 0:\n",
    "            print(f\"Epoch [{epoch+1}/{epochs}], Step [{batch_idx+1}/{len(train_loader)}], Loss: {running_loss/100:.4f}\")\n",
    "            running_loss = 0.0\n",
    "\n",
    "# Save the trained model\n",
    "torch.save(model.state_dict(), 'mnist_ann_model.pth')\n",
    "print('Model trained and saved as \"mnist_ann_model.pth\"')"
   ]
  },
  {
   "cell_type": "code",
   "execution_count": 28,
   "metadata": {},
   "outputs": [
    {
     "name": "stdout",
     "output_type": "stream",
     "text": [
      "Predicted digit: 7\n"
     ]
    },
    {
     "data": {
      "image/png": "[encoded data removed]",
      "text/plain": [
       "<Figure size 640x480 with 1 Axes>"
      ]
     },
     "metadata": {},
     "output_type": "display_data"
    }
   ],
   "source": [
    "model = DigitANN()\n",
    "model.load_state_dict(torch.load('mnist_ann_model.pth'))\n",
    "model.eval()\n",
    "\n",
    "transform = transforms.Compose([\n",
    "    transforms.ToTensor(),\n",
    "    transforms.Normalize((0.5,), (0.5,))\n",
    "])\n",
    "\n",
    "# Load the test dataset\n",
    "test_dataset = datasets.MNIST('.', train=False, download=True, transform=transform)\n",
    "test_loader = DataLoader(test_dataset, batch_size=1, shuffle=True)\n",
    "\n",
    "# Grab a random image from the test dataset and test the model\n",
    "data, target = next(iter(test_loader))\n",
    "\n",
    "# Make the prediction\n",
    "with torch.no_grad():\n",
    "    output = model(data)\n",
    "    _, predicted = torch.max(output, 1)\n",
    "\n",
    "# Print the predicted digit\n",
    "print(f'Predicted digit: {predicted.item()}')\n",
    "\n",
    "# Display the image\n",
    "image = data[0].numpy().squeeze()  # Convert the image tensor to numpy and remove the extra dimension\n",
    "plt.imshow(image, cmap='gray')\n",
    "plt.title(f\"Predicted digit: {predicted.item()}\")\n",
    "plt.show()"
   ]
  },
  {
   "cell_type": "code",
   "execution_count": 31,
   "metadata": {},
   "outputs": [],
   "source": [
    "class DrawingApp:\n",
    "    def __init__(self, root):\n",
    "        self.root = root\n",
    "        self.root.title(\"Draw a Digit\")\n",
    "        self.root.geometry(\"300x350\")\n",
    "        \n",
    "        self.canvas = tk.Canvas(self.root, width=280, height=280, bg=\"black\")\n",
    "        self.canvas.pack(pady=10)\n",
    "        \n",
    "        self.canvas.bind(\"<B1-Motion>\", self.draw)  # Draw on mouse drag\n",
    "        self.canvas.bind(\"<ButtonRelease-1>\", self.predict_digit)  # Predict on mouse release\n",
    "        \n",
    "        # Create a blank black image (background is black)\n",
    "        self.image = Image.new(\"L\", (280, 280), color=\"black\")\n",
    "        self.draw_obj = ImageDraw.Draw(self.image)\n",
    "        \n",
    "        self.clear_button = tk.Button(self.root, text=\"Clear\", command=self.clear_canvas)\n",
    "        self.clear_button.pack()\n",
    "\n",
    "        # For keeping track of the previous position (needed for interpolation)\n",
    "        self.prev_x, self.prev_y = None, None\n",
    "        \n",
    "    def draw(self, event):\n",
    "        \"\"\"Draw on the canvas with the mouse, interpolate between points if moving fast.\"\"\"\n",
    "        x, y = event.x, event.y\n",
    "        \n",
    "        if self.prev_x is not None and self.prev_y is not None:\n",
    "            # Calculate the distance between the previous point and the current point\n",
    "            dx = x - self.prev_x\n",
    "            dy = y - self.prev_y\n",
    "            distance = (dx**2 + dy**2)**0.5  # Euclidean distance\n",
    "            \n",
    "            # If the distance is large, interpolate points between previous and current positions\n",
    "            if distance > 2:\n",
    "                steps = int(distance / 2)  # Number of intermediate points to draw\n",
    "                for i in range(steps):\n",
    "                    # Interpolate between the previous and current positions\n",
    "                    inter_x = int(self.prev_x + (dx * i / steps))\n",
    "                    inter_y = int(self.prev_y + (dy * i / steps))\n",
    "                    self.canvas.create_oval(inter_x - 2, inter_y - 2, inter_x + 2, inter_y + 2, fill=\"white\", outline=\"white\")\n",
    "                    self.draw_obj.line([inter_x - 2, inter_y - 2, inter_x + 2, inter_y + 2], fill=\"white\", width=4)\n",
    "        \n",
    "        # Draw the current point (in case the movement wasn't fast enough for interpolation)\n",
    "        self.canvas.create_oval(x - 2, y - 2, x + 2, y + 2, fill=\"white\", outline=\"white\")\n",
    "        self.draw_obj.line([x - 2, y - 2, x + 2, y + 2], fill=\"white\", width=4)\n",
    "        \n",
    "        # Save the current position for the next event\n",
    "        self.prev_x, self.prev_y = x, y\n",
    "        \n",
    "        # Update the PIL image (draw white on black background)\n",
    "        self.draw_obj.line([x-2, y-2, x+2, y+2], fill=\"white\", width=4)\n",
    "\n",
    "    def clear_canvas(self):\n",
    "        \"\"\"Clear the canvas and reset the image.\"\"\"\n",
    "        self.canvas.delete(\"all\")  # Clear the canvas\n",
    "        self.image = Image.new(\"L\", (280, 280), color=\"black\")  # Reset to black background\n",
    "        self.draw_obj = ImageDraw.Draw(self.image)\n",
    "        self.prev_x, self.prev_y = None, None\n",
    "\n",
    "    def predict_digit(self, event):\n",
    "        \"\"\"Process the drawn image and make a prediction.\"\"\"\n",
    "        # Convert the image to 28x28 for MNIST model\n",
    "        img_resized = self.image.resize((28, 28), Image.LANCZOS).convert(\"L\")\n",
    "        \n",
    "        # Convert image to numpy array and normalize it to [0, 1]\n",
    "        img_array = np.array(img_resized) / 255.0\n",
    "        \n",
    "        # Apply transformation (you might need to modify this depending on your model)\n",
    "        img_tensor = transform(img_resized).unsqueeze(0)  # Add batch dimension\n",
    "        \n",
    "        # Predict the digit with the model\n",
    "        with torch.no_grad():\n",
    "            output = model(img_tensor)  # Run through the model\n",
    "            _, predicted = torch.max(output, 1)  # Get the predicted class (digit)\n",
    "        \n",
    "        predicted_digit = predicted.item()\n",
    "        \n",
    "        # Display the prediction\n",
    "        messagebox.showinfo(\"Prediction\", f\"Predicted Digit: {predicted_digit}\")\n",
    "        \n",
    "        # Optionally, clear the canvas after prediction\n",
    "        # self.clear_canvas()\n",
    "\n",
    "# Create the Tkinter window\n",
    "root = tk.Tk()\n",
    "app = DrawingApp(root)\n",
    "root.mainloop()"
   ]
  }
 ],
 "metadata": {
  "kernelspec": {
   "display_name": "Python 3",
   "language": "python",
   "name": "python3"
  },
  "language_info": {
   "codemirror_mode": {
    "name": "ipython",
    "version": 3
   },
   "file_extension": ".py",
   "mimetype": "text/x-python",
   "name": "python",
   "nbconvert_exporter": "python",
   "pygments_lexer": "ipython3",
   "version": "3.12.7"
  }
 },
 "nbformat": 4,
 "nbformat_minor": 2
}
